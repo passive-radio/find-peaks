{
 "cells": [
  {
   "cell_type": "code",
   "execution_count": 3,
   "source": [
    "from keras.layers import Activation, Conv2D, Dense, Flatten, MaxPool2D, Dropout\r\n",
    "from keras.models import Sequential, load_model\r\n",
    "from keras.utils.np_utils import to_categorical\r\n",
    "from keras.utils.vis_utils import plot_model\r\n",
    "import keras\r\n",
    "from keras.datasets import mnist\r\n",
    "from sklearn.model_selection import train_test_split\r\n",
    "\r\n",
    "from core.preprocessing import read_data, spectra_image\r\n",
    "from utils.labeling import put_labels\r\n",
    "from utils.bmp_csv import bmpToCSV\r\n",
    "from utils.make_train_data import parsed_data\r\n",
    "\r\n",
    "from tensorflow.keras import optimizers\r\n",
    "import matplotlib.pyplot as plt\r\n",
    "\r\n",
    "%matplotlib inline"
   ],
   "outputs": [],
   "metadata": {}
  },
  {
   "cell_type": "code",
   "execution_count": 4,
   "source": [
    "label_file = \"../data/ans_type0.csv\"\r\n",
    "x_dir_path = \"../data/atom_linear_spectrum/\"\r\n",
    "\r\n",
    "x_data, y_data = parsed_data(label_file, x_dir_path)\r\n",
    "X_train, X_test, y_train, y_test = train_test_split(x_data, y_data, test_size=0.3, random_state=2)\r\n",
    "\r\n",
    "print(X_train.shape)"
   ],
   "outputs": [
    {
     "output_type": "stream",
     "name": "stderr",
     "text": [
      "100%|██████████| 100/100 [00:00<00:00, 7711.39it/s]"
     ]
    },
    {
     "output_type": "stream",
     "name": "stdout",
     "text": [
      "(80, 255, 640)\n"
     ]
    },
    {
     "output_type": "stream",
     "name": "stderr",
     "text": [
      "\n"
     ]
    }
   ],
   "metadata": {}
  },
  {
   "cell_type": "code",
   "execution_count": null,
   "source": [
    "X_train = X_train.reshape(-1, 640, 255, 1)\r\n",
    "X_test = X_test.reshape(-1, 640, 255, 1)\r\n",
    "# y_train = to_categorical(y_train)\r\n",
    "# y_test = to_categorical(y_test)\r\n",
    "\r\n",
    "model = Sequential()\r\n",
    "\r\n",
    "model.add(Conv2D(32, kernel_size=(3,3), input_shape=(640,255,1)))\r\n",
    "model.add(Activation(\"relu\"))\r\n",
    "model.add(Conv2D(filters=64, kernel_size=(3,3)))\r\n",
    "model.add(Conv2D(filters=64, kernel_size=(3,3)))\r\n",
    "model.add(Activation(\"relu\"))\r\n",
    "model.add(MaxPool2D(pool_size=(2,2)))\r\n",
    "model.add(Dropout(0.25))\r\n",
    "model.add(Flatten())\r\n",
    "model.add(Activation(\"relu\"))\r\n",
    "model.add(Dropout(0.5))\r\n",
    "model.add(Dense(640))\r\n",
    "\r\n",
    "model.compile(loss=\"logloss\", optimizer=\"adadelta\", metrics=[\"accuracy\"])\r\n",
    "model.fit(X_train, y_train, batch_size = 2, epochs=10, verbose = -1, validation_data = (X_test, y_test))\r\n",
    "\r\n",
    "scores = model.evaluate(X_test, y_test, verbose=1)\r\n",
    "print(\"Test loss: \", scores[0])\r\n",
    "print(\"Test accuracy: \", scores[1])"
   ],
   "outputs": [],
   "metadata": {}
  }
 ],
 "metadata": {
  "orig_nbformat": 4,
  "language_info": {
   "name": "python",
   "version": "3.9.5",
   "mimetype": "text/x-python",
   "codemirror_mode": {
    "name": "ipython",
    "version": 3
   },
   "pygments_lexer": "ipython3",
   "nbconvert_exporter": "python",
   "file_extension": ".py"
  },
  "kernelspec": {
   "name": "python3",
   "display_name": "Python 3.9.5 64-bit ('.venv': venv)"
  },
  "interpreter": {
   "hash": "1baaa464323961626460a32faa3ef133cc86370a46c265138532a3ab2422d515"
  }
 },
 "nbformat": 4,
 "nbformat_minor": 2
}